{
 "cells": [
  {
   "cell_type": "code",
   "execution_count": 3,
   "id": "01af4e08",
   "metadata": {},
   "outputs": [
    {
     "name": "stdout",
     "output_type": "stream",
     "text": [
      "Total unique filenames across both files: 10739\n"
     ]
    }
   ],
   "source": [
    "# Paths to your files\n",
    "file1 = \"/Users/jasonwang/Downloads/file_list.txt\"\n",
    "file2 = \"/Users/jasonwang/Downloads/filenames.txt\"\n",
    "\n",
    "# Read lines from both files and strip whitespace\n",
    "with open(file1, \"r\") as f1:\n",
    "    set1 = set(line.strip() for line in f1 if line.strip())\n",
    "\n",
    "with open(file2, \"r\") as f2:\n",
    "    set2 = set(line.strip() for line in f2 if line.strip())\n",
    "\n",
    "total_unique = set1 | set2\n",
    "print(f\"Total unique filenames across both files: {len(total_unique)}\")"
   ]
  }
 ],
 "metadata": {
  "kernelspec": {
   "display_name": "Python 3",
   "language": "python",
   "name": "python3"
  },
  "language_info": {
   "codemirror_mode": {
    "name": "ipython",
    "version": 3
   },
   "file_extension": ".py",
   "mimetype": "text/x-python",
   "name": "python",
   "nbconvert_exporter": "python",
   "pygments_lexer": "ipython3",
   "version": "3.9.6"
  }
 },
 "nbformat": 4,
 "nbformat_minor": 5
}
